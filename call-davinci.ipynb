{
 "cells": [
  {
   "cell_type": "code",
   "execution_count": null,
   "metadata": {},
   "outputs": [],
   "source": [
    "import requests\n",
    "import json\n",
    "import os\n",
    "\n",
    "\n",
    "# Replace YOUR_API_KEY with your actual API key\n",
    "api_key = os.environ.get['API_KEY_OPENAI']\n",
    "\n",
    "response = requests.post(\n",
    "    \"https://api.openai.com/v1/completions\",\n",
    "    headers={\n",
    "        \"Content-Type\": \"application/json\",\n",
    "        \"Authorization\": f\"Bearer {api_key}\",\n",
    "    },\n",
    "    json={\n",
    "        \"prompt\": \"It is cool connection to your API using Python\",\n",
    "        \"model\": \"text-davinci-003\",\n",
    "        \"max_tokens\": 1000\n",
    "    },\n",
    ")\n",
    "\n",
    "response_text = json.loads(response.text)\n",
    "print(response_text[\"choices\"][0][\"text\"])"
   ]
  }
 ],
 "metadata": {
  "kernelspec": {
   "display_name": "Python 3",
   "language": "python",
   "name": "python3"
  },
  "language_info": {
   "name": "python",
   "version": "3.10.6"
  },
  "orig_nbformat": 4,
  "vscode": {
   "interpreter": {
    "hash": "aee8b7b246df8f9039afb4144a1f6fd8d2ca17a180786b69acc140d282b71a49"
   }
  }
 },
 "nbformat": 4,
 "nbformat_minor": 2
}
