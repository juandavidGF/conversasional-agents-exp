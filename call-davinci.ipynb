{
 "cells": [
  {
   "cell_type": "code",
   "execution_count": 3,
   "metadata": {},
   "outputs": [
    {
     "name": "stdout",
     "output_type": "stream",
     "text": [
      ". Python is a very popular language used in many different domains so it makes a lot of sense to use it to access and interact with an API. Python can be used to create scripts to connect with, query, and manipulate the data within an API. It can also be used to create automated integrations between different services and products. Python can also be used to write automation tests for an API, allowing developers to ensure their applications and services are working properly and as expected. The language is highly versatile and can be used to create a wide range of projects and programs to interact with an API.\n"
     ]
    }
   ],
   "source": [
    "import requests\n",
    "import json\n",
    "import os\n",
    "from dotenv import load_dotenv\n",
    "\n",
    "load_dotenv()\n",
    "\n",
    "# Replace YOUR_API_KEY with your actual API key\n",
    "api_key = os.getenv('API_KEY_OPENAI')\n",
    "\n",
    "\n",
    "response = requests.post(\n",
    "    \"https://api.openai.com/v1/completions\",\n",
    "    headers={\n",
    "        \"Content-Type\": \"application/json\",\n",
    "        \"Authorization\": f\"Bearer {api_key}\",\n",
    "    },\n",
    "    json={\n",
    "        \"prompt\": \"It is cool connection to your API using Python\",\n",
    "        \"model\": \"text-davinci-003\",\n",
    "        \"max_tokens\": 1000\n",
    "    },\n",
    ")\n",
    "\n",
    "response_text = json.loads(response.text)\n",
    "print(response_text[\"choices\"][0][\"text\"])"
   ]
  },
  {
   "cell_type": "code",
   "execution_count": null,
   "metadata": {},
   "outputs": [],
   "source": []
  }
 ],
 "metadata": {
  "kernelspec": {
   "display_name": "Python 3",
   "language": "python",
   "name": "python3"
  },
  "language_info": {
   "codemirror_mode": {
    "name": "ipython",
    "version": 3
   },
   "file_extension": ".py",
   "mimetype": "text/x-python",
   "name": "python",
   "nbconvert_exporter": "python",
   "pygments_lexer": "ipython3",
   "version": "3.10.6"
  },
  "orig_nbformat": 4,
  "vscode": {
   "interpreter": {
    "hash": "aee8b7b246df8f9039afb4144a1f6fd8d2ca17a180786b69acc140d282b71a49"
   }
  }
 },
 "nbformat": 4,
 "nbformat_minor": 2
}
